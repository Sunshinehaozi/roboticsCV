{
 "cells": [
  {
   "cell_type": "markdown",
   "metadata": {},
   "source": [
    "### Decision: Where to Go?    \n",
    "该项目的目标是执行自主导航和地图构建。现在已经拥有了地图（上一个练习获得），实施上意味着完成了一项艰难的任务。随着从Rover相机接受到的每一个新图像，我门将决定Rover的油门、刹车和转向。但是怎样确定这些命令的值呢？    \n",
    "从转向开始，有很多方法来解决这个问题。但对于入门，会提出一个简单的方法来确定这个转向角度。例如考虑下面这个图像，从Rover的角度观察，显然左边有更开阔的地面。\n",
    "![angle-example](angle-example.jpg)"
   ]
  },
  {
   "cell_type": "markdown",
   "metadata": {},
   "source": [
    "#### Average Angle    \n",
    "我们极影计算了Rover空间中可导航地形像素的X和Y坐标值，现在的任务是巨鼎哪个方向来引导Rover。一个简单的方法是选择世界中最清晰的路径，或者说最可导航的地形像素！    \n",
    "要做到这一点，需要先把(x,y)像素坐标转换到极坐标上，其中每个像素的位置代表它与源点的距离以及与x轴正方向逆时针转过的角度。    \n",
    "转换到极坐标是一个简单的过程，需要两个步骤（注意np.arctan2()可能返回四个象限的角度值）"
   ]
  },
  {
   "cell_type": "code",
   "execution_count": null,
   "metadata": {},
   "outputs": [],
   "source": [
    "import numpy as np\n",
    "\n",
    "# Define a function to convert from cartesian to polar coordinates\n",
    "def to_polar_coords(xpix, ypix):\n",
    "    # Calculate distance to each pixel\n",
    "    dist = np.sqrt(xpix**2 + ypix**2)\n",
    "    # Calculate angle using arctangent function\n",
    "    angles = np.arctan2(ypix, xpix)\n",
    "    return dist, angles"
   ]
  },
  {
   "cell_type": "markdown",
   "metadata": {},
   "source": [
    "假设所需要的方程都在之前的练习中定义过，那现在就可以处理上面的图像并绘制结果了。"
   ]
  },
  {
   "cell_type": "code",
   "execution_count": null,
   "metadata": {},
   "outputs": [],
   "source": [
    "import matplotlib.pyplot as plt\n",
    "import matplotlib.image as mpimg\n",
    "%matplotlib inline\n",
    "import numpy as np\n",
    "from extra_functions import perspect_transform, color_thresh, rover_coords\n",
    "\n",
    "image = mpimg.imread('angle_example.jpg')\n",
    "warped = perspect_transform(image) # Perform perspective transform\n",
    "colorsel = color_thresh(warped, rgb_thresh=(160,160,160)) # Threshold the warped image\n",
    "xpix, ypix = rover_coords(colorsel) # Convert to rover-centric coords\n",
    "distances, angles = to_polar_coords(xpix, ypix) # Convert to polar coords\n",
    "avg_angle = np.mean(angles) # Compute the average angle\n",
    "\n",
    "# Do some plotting\n",
    "fig = plt.figure(figsize=(12,9))\n",
    "plt.subplot(221)\n",
    "plt.imshow(image)\n",
    "plt.subplot(222)\n",
    "plt.imshow(warped)\n",
    "plt.subplot(223)\n",
    "plt.imshow(colorsel, cmap='gray')\n",
    "plt.subplot(224)\n",
    "plt.plot(xpix, ypix, '.')\n",
    "plt.ylim(-160, 160)\n",
    "plt.xlim(0, 160)\n",
    "arrow_length = 100\n",
    "x_arrow = arrow_length * np.cos(avg_angle)\n",
    "y_arrow = arrow_length * np.sin(avg_angle)\n",
    "plt.arrow(0,0,x_arrow,y_arrow,color='red',zorder=2,head_width=10,width=2)\n",
    "plt.show()"
   ]
  },
  {
   "cell_type": "markdown",
   "metadata": {},
   "source": [
    "给出如下结果（加上表示平均角度的注解）：\n",
    "![result](result.png)"
   ]
  },
  {
   "cell_type": "markdown",
   "metadata": {},
   "source": [
    "该方向（角度）代表了Rover视野中所有可导航地形像素的平均角度，在上面的情节中大致为0.7弧度。   \n",
    "考虑到相机的近似视场，得到的角度的平均值将在大约(-pi/4,pi/4)弧度之间变化。你可以发送到Rover的转向角度的输入是在-15°（向右）到+15°（向左）的范围内，所以最后一步是选择平均角度和你想要发送到Rover的转向角度之间的转换。最简单的做法是转换成度数并截断到+/-15范围内，像这样："
   ]
  },
  {
   "cell_type": "code",
   "execution_count": null,
   "metadata": {},
   "outputs": [],
   "source": [
    "avg_angle_degrees = avg_angle * 180/np.pi\n",
    "steering = np.clip(avg_angle_degrees, -15, 15)"
   ]
  }
 ],
 "metadata": {
  "kernelspec": {
   "display_name": "Python 3",
   "language": "python",
   "name": "python3"
  },
  "language_info": {
   "codemirror_mode": {
    "name": "ipython",
    "version": 3
   },
   "file_extension": ".py",
   "mimetype": "text/x-python",
   "name": "python",
   "nbconvert_exporter": "python",
   "pygments_lexer": "ipython3",
   "version": "3.5.2"
  },
  "widgets": {
   "state": {},
   "version": "1.1.2"
  }
 },
 "nbformat": 4,
 "nbformat_minor": 2
}
