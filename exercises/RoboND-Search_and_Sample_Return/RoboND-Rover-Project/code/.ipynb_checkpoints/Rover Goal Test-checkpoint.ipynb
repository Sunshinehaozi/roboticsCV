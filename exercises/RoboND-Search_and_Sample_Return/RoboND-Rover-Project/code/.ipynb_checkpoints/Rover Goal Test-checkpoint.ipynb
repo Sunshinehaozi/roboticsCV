{
 "cells": [
  {
   "cell_type": "markdown",
   "metadata": {},
   "source": [
    "The below code tests the defined 'rover_goal' function, which returns the direction of 'left' or 'right' that indicate the rover should turn according to the worlmap. If we assume that the groundtruth is previously known, the result can be much more accurate, but it's cheating! Due to time constraints, debugging results are not ideal, but the function does make the mapping result better in the project！"
   ]
  },
  {
   "cell_type": "code",
   "execution_count": 19,
   "metadata": {},
   "outputs": [
    {
     "name": "stdout",
     "output_type": "stream",
     "text": [
      "(200, 200) <class 'numpy.ndarray'>\n"
     ]
    },
    {
     "data": {
      "text/plain": [
       "<matplotlib.image.AxesImage at 0x26a7617da58>"
      ]
     },
     "execution_count": 19,
     "metadata": {},
     "output_type": "execute_result"
    },
    {
     "data": {
      "image/png": "[encoded data removed]",
      "text/plain": [
       "<Figure size 432x288 with 2 Axes>"
      ]
     },
     "metadata": {},
     "output_type": "display_data"
    }
   ],
   "source": [
    "import matplotlib.image as mpimg\n",
    "import matplotlib.pyplot as plt\n",
    "import numpy as np\n",
    "\n",
    "ground_truth = mpimg.imread('../calibration_images/map_bw.png')\n",
    "ground_truth_flip = np.flipud(ground_truth)\n",
    "\n",
    "print(ground_truth.shape, type(ground_truth))\n",
    "\n",
    "#fig = plt.figure(figsize=(12,3))\n",
    "plt.subplot(121)\n",
    "plt.imshow(ground_truth, cmap='gray')\n",
    "plt.subplot(122)\n",
    "plt.imshow(ground_truth_flip, cmap='gray')"
   ]
  },
  {
   "cell_type": "markdown",
   "metadata": {},
   "source": [
    "Now we assume that the rover is at the position of (105, 140), and plot it as a small blue point on the map."
   ]
  },
  {
   "cell_type": "code",
   "execution_count": 20,
   "metadata": {},
   "outputs": [
    {
     "data": {
      "text/plain": [
       "<matplotlib.collections.PathCollection at 0x26a761a8940>"
      ]
     },
     "execution_count": 20,
     "metadata": {},
     "output_type": "execute_result"
    },
    {
     "data": {
      "image/png": "[encoded data removed]",
      "text/plain": [
       "<Figure size 576x576 with 1 Axes>"
      ]
     },
     "metadata": {},
     "output_type": "display_data"
    }
   ],
   "source": [
    "# assume that rover is at (105, 140) \n",
    "fig = plt.figure(figsize=(8,8))\n",
    "plt.imshow(ground_truth,  cmap='gray')\n",
    "plt.scatter(140, 105, c = 'b')"
   ]
  },
  {
   "cell_type": "markdown",
   "metadata": {},
   "source": [
    "I use *maped* to represent the maped world, with is consistant with worldmap[:,:,2] in the project. And I also assume that the yaw angle of the rover is *pi * 5/4*. The yaw angle is ploted as a red arrow. According to our judgement, the rover should drive in areas with less mapping area. Therefore, the goal of rover at this time should be right turn!"
   ]
  },
  {
   "cell_type": "code",
   "execution_count": 21,
   "metadata": {},
   "outputs": [
    {
     "data": {
      "text/plain": [
       "<matplotlib.patches.FancyArrow at 0x26a76201ef0>"
      ]
     },
     "execution_count": 21,
     "metadata": {},
     "output_type": "execute_result"
    },
    {
     "data": {
      "image/png": "[encoded data removed]",
      "text/plain": [
       "<Figure size 576x576 with 1 Axes>"
      ]
     },
     "metadata": {},
     "output_type": "display_data"
    }
   ],
   "source": [
    "maped = np.copy(ground_truth)\n",
    "\n",
    "for y in range(0, 200):\n",
    "    for x in range(0, 200):\n",
    "        if y > 100 and maped[y, x]==1 and x>75:\n",
    "            maped[y, x] = 1\n",
    "        else:\n",
    "            maped[y, x] = 0\n",
    "\n",
    "fig = plt.figure(figsize=(8,8))\n",
    "plt.imshow(maped, cmap='gray')\n",
    "plt.scatter(140, 105, c = 'b')\n",
    "\n",
    "arrow_length = 10\n",
    "\n",
    "# simulator yaw is counter-clockwise positive\n",
    "yaw = np.pi * 5/4\n",
    "\n",
    "x_arrow = arrow_length * np.cos(2*np.pi - yaw)\n",
    "y_arrow = arrow_length * np.sin(2*np.pi - yaw)\n",
    "plt.arrow(140, 105, x_arrow, y_arrow, color='red', zorder=2, head_width=10, width=2)"
   ]
  },
  {
   "cell_type": "code",
   "execution_count": 22,
   "metadata": {},
   "outputs": [],
   "source": [
    "class Rover_state():\n",
    "    def __init__(self):\n",
    "        self.pos = None\n",
    "        self.yaw = None\n",
    "        self.worldmap = np.zeros((200, 200, 3), dtype=np.float)\n",
    "\n",
    "Rover = Rover_state()\n",
    "Rover.pos=[140, 105]\n",
    "Rover.yaw=yaw\n",
    "Rover.worldmap[:,:,2] = maped"
   ]
  },
  {
   "cell_type": "markdown",
   "metadata": {},
   "source": [
    "Define the *rover_goal* function."
   ]
  },
  {
   "cell_type": "code",
   "execution_count": 23,
   "metadata": {},
   "outputs": [],
   "source": [
    "def rover_goal(Rover):\n",
    "\n",
    "    xpos = Rover.pos[0]\n",
    "    ypos = Rover.pos[1]\n",
    "    yaw = Rover.yaw\n",
    "    \n",
    "    worldmap_naved = Rover.worldmap[:, :, 2]\n",
    "    worldmap_mask = np.ones_like(worldmap_naved) - worldmap_naved\n",
    "\n",
    "    # worldmap -> empty area\n",
    "    # random select empty area, \n",
    "    # then calculate the vector with the origin of current position\n",
    "    angles = np.zeros((200, 200))\n",
    "    \n",
    "    for y in range(0, 200):\n",
    "        for x in range(0, 200):\n",
    "            angles[y, x] = np.arctan2(y - ypos, x - xpos)\n",
    "            if angles[y, x] < 0:\n",
    "                angles[y, x]+=2*np.pi\n",
    "    \n",
    "    relative_angles = angles - yaw\n",
    "    relative_angles = np.multiply(relative_angles, worldmap_mask)\n",
    "    \n",
    "    relative_angles_ = []\n",
    "    for y in range(0, 200):\n",
    "        for x in range(0, 200):\n",
    "            if not relative_angles[y, x] == 0:\n",
    "                relative_angles_.append(relative_angles[y, x])\n",
    "            \n",
    "    relative_angles_avg = np.mean(relative_angles_)\n",
    "    print(relative_angles_avg)\n",
    "    \n",
    "    if relative_angles_avg > 0:\n",
    "        goal = 'left'\n",
    "\n",
    "    else:\n",
    "        goal = 'right'\n",
    "    \n",
    "    return goal"
   ]
  },
  {
   "cell_type": "markdown",
   "metadata": {},
   "source": [
    "The output should be *right* !"
   ]
  },
  {
   "cell_type": "code",
   "execution_count": 24,
   "metadata": {},
   "outputs": [
    {
     "name": "stdout",
     "output_type": "stream",
     "text": [
      "-0.7086241622817823\n",
      "right\n"
     ]
    }
   ],
   "source": [
    "print(rover_goal(Rover))"
   ]
  },
  {
   "cell_type": "markdown",
   "metadata": {},
   "source": [
    "We change the state of Rover and test the defined function under new conditions. "
   ]
  },
  {
   "cell_type": "code",
   "execution_count": 25,
   "metadata": {
    "scrolled": false
   },
   "outputs": [
    {
     "data": {
      "text/plain": [
       "<matplotlib.patches.FancyArrow at 0x26a775f4cc0>"
      ]
     },
     "execution_count": 25,
     "metadata": {},
     "output_type": "execute_result"
    },
    {
     "data": {
      "image/png": "[encoded data removed]",
      "text/plain": [
       "<Figure size 576x576 with 1 Axes>"
      ]
     },
     "metadata": {},
     "output_type": "display_data"
    }
   ],
   "source": [
    "maped1 = np.copy(ground_truth)\n",
    "\n",
    "for y in range(0, 200):\n",
    "    for x in range(0, 200):\n",
    "        if y < 100 and maped1[y, x]==1:\n",
    "            maped1[y, x] = 1\n",
    "        else:\n",
    "            maped1[y, x] = 0\n",
    "\n",
    "fig = plt.figure(figsize=(8,8))\n",
    "plt.imshow(maped1, cmap='gray')\n",
    "plt.scatter(110, 98, c = 'b')\n",
    "\n",
    "arrow_length = 10\n",
    "\n",
    "# simulator yaw is counter-clockwise positive\n",
    "yaw = np.pi * 9/10\n",
    "\n",
    "x_arrow = arrow_length * np.cos(2*np.pi - yaw)\n",
    "y_arrow = arrow_length * np.sin(2*np.pi - yaw)\n",
    "plt.arrow(110, 98, x_arrow, y_arrow, color='red', zorder=2, head_width=10, width=2)"
   ]
  },
  {
   "cell_type": "code",
   "execution_count": 26,
   "metadata": {},
   "outputs": [],
   "source": [
    "Rover.pos=[110, 98]\n",
    "Rover.yaw=yaw\n",
    "Rover.worldmap[:,:,2] = maped1"
   ]
  },
  {
   "cell_type": "markdown",
   "metadata": {},
   "source": [
    "The output should be *left* !"
   ]
  },
  {
   "cell_type": "code",
   "execution_count": 27,
   "metadata": {},
   "outputs": [
    {
     "name": "stdout",
     "output_type": "stream",
     "text": [
      "0.26026424965543254\n",
      "left\n"
     ]
    }
   ],
   "source": [
    "print(rover_goal(Rover))"
   ]
  },
  {
   "cell_type": "code",
   "execution_count": null,
   "metadata": {},
   "outputs": [],
   "source": []
  }
 ],
 "metadata": {
  "kernelspec": {
   "display_name": "Python [default]",
   "language": "python",
   "name": "python3"
  },
  "language_info": {
   "codemirror_mode": {
    "name": "ipython",
    "version": 3
   },
   "file_extension": ".py",
   "mimetype": "text/x-python",
   "name": "python",
   "nbconvert_exporter": "python",
   "pygments_lexer": "ipython3",
   "version": "3.5.2"
  },
  "widgets": {
   "state": {},
   "version": "1.1.2"
  }
 },
 "nbformat": 4,
 "nbformat_minor": 2
}
