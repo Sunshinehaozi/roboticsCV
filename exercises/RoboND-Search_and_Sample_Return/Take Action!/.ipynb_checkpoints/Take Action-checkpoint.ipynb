{
 "cells": [
  {
   "cell_type": "markdown",
   "metadata": {},
   "source": [
    "### Take Action!\n",
    "![actions](actions.png)\n",
    "#### Sending Commands to the Rover\n",
    "项目中，与在现实世界一致的是，感知和决策步骤构成问题的绝大部分。在这种情况下，动作步骤（action）变得非常简单！提供一个名为send_control()的函数，你将用它来命令Rover，并将图片显示在模拟器屏幕上。该函数如下：    \n",
    "注意 .__str__() 的使用，证明commands[0]和commands[1]都为一个类的实例？"
   ]
  },
  {
   "cell_type": "code",
   "execution_count": null,
   "metadata": {},
   "outputs": [],
   "source": [
    "def send_control(commonds, image_string1, image_string2):\n",
    "    # Define commonds to be sent to the rover\n",
    "    data={\n",
    "        'throttle': commands[0].__str__(),\n",
    "        'brake': commands[1].__str__(),\n",
    "        'steering_angle': commands[2].__str__(),\n",
    "        'inset_image1': image_string1,\n",
    "        'inset_image2': image_string2,\n",
    "         }\n",
    "    # Send commands via socketIO server\n",
    "    sio.emit(\n",
    "        \"data\",\n",
    "        data,\n",
    "        skip_sid=True)"
   ]
  },
  {
   "cell_type": "markdown",
   "metadata": {},
   "source": [
    "这个函数输出一个 3-tuple 参数，包含油门、刹车和转向值。它们存储在Rover.throttle、Rover.brake 和 Rover.steer这三个RoverState()对象的属性中。   \n",
    "其他参数为image_string1和image_string2，携带Rover.vision_image和Rover.worldmap 这两幅图像，它们被转换为base64编码的字符串，当在自主模式下导航时它们将在屏幕上呈现。    \n",
    "send_control()函数创建一个包含上述值得字典，称为data。然后将该字典传递给sio.emit()函数，以将命令和图像发送给Rover。你不必担心这是如何完成的，一旦你更新了Rover.throttle， Rover.brake 和 Rover.steer，你输入到send_control()的命令将被更新，每次更新Rover.vision_image和 Rover.worldmap，两个显示在屏幕上的图像都会被更新。这就是action 步骤的全部内容！"
   ]
  },
  {
   "cell_type": "code",
   "execution_count": null,
   "metadata": {},
   "outputs": [],
   "source": []
  }
 ],
 "metadata": {
  "kernelspec": {
   "display_name": "Python 3",
   "language": "python",
   "name": "python3"
  },
  "language_info": {
   "codemirror_mode": {
    "name": "ipython",
    "version": 3
   },
   "file_extension": ".py",
   "mimetype": "text/x-python",
   "name": "python",
   "nbconvert_exporter": "python",
   "pygments_lexer": "ipython3",
   "version": "3.5.2"
  },
  "widgets": {
   "state": {},
   "version": "1.1.2"
  }
 },
 "nbformat": 4,
 "nbformat_minor": 2
}
