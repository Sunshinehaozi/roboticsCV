{
 "cells": [
  {
   "cell_type": "markdown",
   "metadata": {},
   "source": [
    "### Extrinsic Calibration\n",
    "![camera model](camera model.png)\n",
    "2D像素坐标中的点的位置与3D世界坐标中的对应点的位置之间的关系由针孔相机模型定义：    \n",
    "![pinhole camera model](pinhole camera model.png)    \n",
    "K代表intrinsic matrix.   \n",
    "R和T为extrinsic parameters,代表3D世界坐标系到3D相机坐标系的坐标系统转换。   \n",
    "另一种说法是，extirinsic parameters决定了世界坐标系下描述的相机光学中心及相机朝向。    \n",
    "同时，相机位置 C=-R'T    \n",
    "因为extrinsc parameters决定了相机关于世界坐标系的相对位姿，它们还可以用于图像配准（image registration）过程。    \n",
    "图像配准指的是将数据帧从一个摄像机逐像素逐像素地与另一个摄像机地数据帧匹配。   \n",
    "这对于创建精确的点云是绝对必要的。"
   ]
  },
  {
   "cell_type": "markdown",
   "metadata": {},
   "source": [
    "为什么处理RGB-D数据需要用到calibration呢？    \n",
    "The calibration process will allow you to combine the RGB camera data with the accompanying depth camera data to generate 3D point clouds. （答案就是需要calibration来帮助生成点云数据）"
   ]
  },
  {
   "cell_type": "code",
   "execution_count": null,
   "metadata": {},
   "outputs": [],
   "source": []
  }
 ],
 "metadata": {
  "kernelspec": {
   "display_name": "Python [conda env:RoboND]",
   "language": "python",
   "name": "conda-env-RoboND-py"
  },
  "language_info": {
   "codemirror_mode": {
    "name": "ipython",
    "version": 3
   },
   "file_extension": ".py",
   "mimetype": "text/x-python",
   "name": "python",
   "nbconvert_exporter": "python",
   "pygments_lexer": "ipython3",
   "version": "3.5.2"
  },
  "widgets": {
   "state": {},
   "version": "1.1.2"
  }
 },
 "nbformat": 4,
 "nbformat_minor": 2
}
